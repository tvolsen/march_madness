{
 "cells": [
  {
   "cell_type": "code",
   "execution_count": 19,
   "metadata": {},
   "outputs": [],
   "source": [
    "# basic imports\n",
    "import pandas as pd\n",
    "import numpy as np\n",
    "\n",
    "def matchup_generator(all_stats, year, team0_name, team1_name, winner=None):\n",
    "    '''\n",
    "    Input all_stats df, year, team0 and team1 name and the winner (0 for the first team input, 1 for the second)\n",
    "    if one exists to return the two mirrored games team0-team1 and team1-team0\n",
    "    '''\n",
    "    year_stats = all_stats[all_stats[\"year\"] == year]\n",
    "    teams_df = year_stats[year_stats[\"team\"].isin([team0_name, team1_name])]\n",
    "    if len(teams_df) < 2:\n",
    "        return None\n",
    "\n",
    "    team0 = teams_df[teams_df[\"team\"] == team0_name].drop([\"year\", \"team\"], axis=1).squeeze()\n",
    "    team1 = teams_df[teams_df[\"team\"] == team1_name].drop([\"year\", \"team\"], axis=1).squeeze()\n",
    "    team0_team1 = team0 - team1\n",
    "    team0_team1[\"year\"] = year\n",
    "    team0_team1[\"team0\"] = team0_name\n",
    "    team0_team1[\"team1\"] = team1_name\n",
    "    \n",
    "    team1_team0 = team1 - team0\n",
    "    team1_team0[\"year\"] = year\n",
    "    team1_team0[\"team0\"] = team1_name\n",
    "    team1_team0[\"team1\"] = team0_name\n",
    "\n",
    "    team0_team1[\"result\"] = winner\n",
    "    team1_team0[\"result\"] = 1 - winner\n",
    "\n",
    "    return [team0_team1, team1_team0]\n",
    "\n",
    "\n",
    "all_stats = pd.read_csv(\"stats/all_stats.csv\")\n",
    "\n",
    "# create a dataframe of each tournament game\n",
    "df_games = pd.DataFrame({})\n",
    "for year in range(2003, 2023):\n",
    "    if year == 2020 or year == 2021:\n",
    "        continue\n",
    "    df_bracket = pd.read_csv(f\"brackets/{year}-bracket.csv\")\n",
    "    df_bracket = df_bracket[df_bracket[\"round\"] > 0]\n",
    "    for i, game in df_bracket.iterrows():\n",
    "        games = matchup_generator(all_stats, game.year, game.team0, game.team1, game.winner)\n",
    "        if games:\n",
    "            team0_team1, team1_team0 = games\n",
    "            df_games = df_games._append(team0_team1, ignore_index=True)\n",
    "            df_games = df_games._append(team1_team0, ignore_index=True)\n",
    "\n",
    "df_games = df_games.round(3)\n",
    "df_games.to_csv(\"feature_vectors.csv\", index=False)"
   ]
  },
  {
   "cell_type": "code",
   "execution_count": null,
   "metadata": {},
   "outputs": [],
   "source": []
  },
  {
   "cell_type": "code",
   "execution_count": null,
   "metadata": {},
   "outputs": [],
   "source": []
  }
 ],
 "metadata": {
  "kernelspec": {
   "display_name": "base",
   "language": "python",
   "name": "python3"
  },
  "language_info": {
   "codemirror_mode": {
    "name": "ipython",
    "version": 3
   },
   "file_extension": ".py",
   "mimetype": "text/x-python",
   "name": "python",
   "nbconvert_exporter": "python",
   "pygments_lexer": "ipython3",
   "version": "3.11.5"
  }
 },
 "nbformat": 4,
 "nbformat_minor": 2
}
