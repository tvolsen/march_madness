{
 "cells": [
  {
   "cell_type": "code",
   "execution_count": 7,
   "id": "cc724a8d",
   "metadata": {},
   "outputs": [
    {
     "name": "stdout",
     "output_type": "stream",
     "text": [
      "[<POINT (0.952 0.8)>, <POINT (0.842 0.703)>, <POINT (0.58 0.47)>, <POINT (0.835 0.942)>]\n"
     ]
    }
   ],
   "source": [
    "from shapely.geometry import Point, Polygon\n",
    "import random\n",
    "\n",
    "# Create Point objects\n",
    "\n",
    "A = []\n",
    "B = []\n",
    "\n",
    "# for x in [0, 0.5]:\n",
    "#     for y in [0, 0.5]:\n",
    "#         A.append\n",
    "\n",
    "for i in range(4):\n",
    "    x = random.random()\n",
    "    y = random.random()\n",
    "    pt = Point(x, y)\n",
    "    A.append(pt)\n",
    "print(A)  \n",
    "\n",
    "# # Create a square\n",
    "# coords = [(24.89, 60.06), (24.75, 60.06), (24.75, 60.30), (24.89, 60.30)]\n",
    "# poly = Polygon(coords)\n",
    "\n",
    "# # PIP test with 'within'\n",
    "# p1.within(poly)     # True\n",
    "# p2.within(poly)     # False\n",
    "\n",
    "# # PIP test with 'contains'\n",
    "# poly.contains(p1)   # True\n",
    "# poly.contains(p2) "
   ]
  },
  {
   "cell_type": "code",
   "execution_count": null,
   "id": "775463ef",
   "metadata": {},
   "outputs": [],
   "source": []
  }
 ],
 "metadata": {
  "kernelspec": {
   "display_name": "Python 3 (ipykernel)",
   "language": "python",
   "name": "python3"
  },
  "language_info": {
   "codemirror_mode": {
    "name": "ipython",
    "version": 3
   },
   "file_extension": ".py",
   "mimetype": "text/x-python",
   "name": "python",
   "nbconvert_exporter": "python",
   "pygments_lexer": "ipython3",
   "version": "3.9.7"
  }
 },
 "nbformat": 4,
 "nbformat_minor": 5
}
