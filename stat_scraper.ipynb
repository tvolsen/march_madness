{
 "cells": [
  {
   "cell_type": "code",
   "execution_count": null,
   "metadata": {},
   "outputs": [],
   "source": [
    "from bs4 import BeautifulSoup\n",
    "import requests\n",
    "import os\n",
    "import csv\n",
    "\n"
   ]
  },
  {
   "cell_type": "code",
   "execution_count": null,
   "metadata": {},
   "outputs": [],
   "source": [
    "if not os.path.isdir(\"stats\"):\n",
    "    os.system(f\"mkdir stats\")\n",
    "\n",
    "for year in range(2019, 2025):\n",
    "    # skip the two years most heavily impacted by COVID-19 for stat reliability\n",
    "    if year == 2020 or year == 2021:\n",
    "        continue\n",
    "    \n",
    "    # save the data from the entire season, and from just the tournament. These two will later be subtracted to have pre-tournament stats (to prevent data leakage)\n",
    "    for season in [\"total\", \"tournament\"]:\n",
    "\n",
    "        # access the correct page depending on if we are scraping the entire season, or just the NCAA tournament\n",
    "        url_dict = {\n",
    "            \"total\" : 0,\n",
    "            \"tournament\" : 6\n",
    "        }\n",
    "        # HTML and CSV file names and paths\n",
    "        url = f\"https://basketball.realgm.com/ncaa/team-stats/{year}/Totals/Team_Totals/{url_dict[season]}\"\n",
    "        html_name = f\"{year}_{season}_stats.html\"\n",
    "        html_file_path = f\"stats/{html_name}\"\n",
    "        csv_name = f\"{year}_{season}_stats.csv\"\n",
    "        csv_file_path = f\"stats/{csv_name}\"\n",
    "\n",
    "\n",
    "\n",
    "        # only request if the file doesn't exist locally to prevent flooding the site\n",
    "        if not os.path.exists(html_file_path):\n",
    "            with open(html_file_path, \"w\") as f:\n",
    "                response = requests.get(url)\n",
    "                f.write(response.text)\n",
    "            \n",
    "        with open(html_file_path) as f:\n",
    "            soup = BeautifulSoup(f, \"html.parser\")\n",
    "\n",
    "        # find all of the relevant information from the HTML source\n",
    "        all_stats = soup.find_all(name=\"td\", class_=\"\")\n",
    "\n",
    "        # save all of the information to a csv file\n",
    "        with open(csv_file_path, \"w\") as f:\n",
    "            write = csv.writer(f)\n",
    "            # here are the column headers\n",
    "            categories = [\"year\", \"team\", \"pts\", \"fgm\", \"fga\", \"3pm\", \"3pa\", \"ftm\", \"fta\", \"orb\", \"drb\", \"reb\", \"ast\", \"stl\", \"blk\", \"tov\", \"pf\"]\n",
    "            write.writerow(categories)\n",
    "            while all_stats:\n",
    "                team = []\n",
    "                # add the year and school columns\n",
    "                team.append(year)\n",
    "                team.append(all_stats.pop(0).text)\n",
    "                for i in range(20):\n",
    "                    # ignore a few irrelevant or incompatible columns\n",
    "                    if i in [0, 1, 5, 8, 11]:\n",
    "                        all_stats.pop(0)\n",
    "                    else:\n",
    "                        # format the numbers as integers\n",
    "                        s = str(all_stats.pop(0).text)\n",
    "                        s = s.replace(\",\", \"\")\n",
    "                        team.append(int(s))\n",
    "                write.writerow(team)"
   ]
  },
  {
   "cell_type": "code",
   "execution_count": null,
   "metadata": {},
   "outputs": [],
   "source": []
  }
 ],
 "metadata": {
  "kernelspec": {
   "display_name": "base",
   "language": "python",
   "name": "python3"
  },
  "language_info": {
   "codemirror_mode": {
    "name": "ipython",
    "version": 3
   },
   "file_extension": ".py",
   "mimetype": "text/x-python",
   "name": "python",
   "nbconvert_exporter": "python",
   "pygments_lexer": "ipython3",
   "version": "3.11.5"
  }
 },
 "nbformat": 4,
 "nbformat_minor": 2
}
